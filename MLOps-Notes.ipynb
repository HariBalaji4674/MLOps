{
 "cells": [
  {
   "cell_type": "markdown",
   "id": "f86a2060",
   "metadata": {},
   "source": [
    "## Ml Fundamentals \n",
    "\n",
    "1. Model Development\n",
    "2. Experimental Management\n",
    "3. Data Management\n",
    "4. Continual Learning\n",
    "5. Model Deployment\n",
    "6. Model Monitoring\n",
    "7. Project Management.\n",
    "\n",
    "\n",
    "Road Map:\n",
    "\n",
    "1. Data Version Control --> DVC Tool\n",
    "2. Track Experimnents & Model Registry\n",
    "   1. ML Flow\n",
    "   2. Hyper Parameter Tuning\n",
    "   3. Deep Learning\n",
    "   4. Model Registry\n",
    "   5. Play List --> MlOps ZoomCamp\n",
    "3. CI + CD + CT\n",
    "   1. CT --> Continuous Training\n",
    "   2. Kube Flow Pipelines\n",
    "4. Serve Model\n",
    "   1. Python\n",
    "   2. Fast API\n",
    "   3. KServe --> Kserve Documentation\n",
    "5. Git Hub Actions\n",
    "   1. Basic ML Pipelines\n",
    "   2. CI For ML \n",
    "6. Feature Stores\n",
    "   1. Offline For Training\n",
    "   2. Online For Serving \n",
    "   3. Feast"
   ]
  },
  {
   "cell_type": "markdown",
   "id": "97126879",
   "metadata": {},
   "source": [
    "### Mlops/AI Main Concepts - Topics\n",
    "\n",
    "1. Large Language Models\n",
    "2. Tokenization\n",
    "3. Vectorization\n",
    "4. Attention Mechanism\n",
    "5. Self Supervised Learning "
   ]
  }
 ],
 "metadata": {
  "language_info": {
   "name": "python"
  }
 },
 "nbformat": 4,
 "nbformat_minor": 5
}
