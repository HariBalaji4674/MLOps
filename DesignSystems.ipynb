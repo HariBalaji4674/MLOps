{
 "cells": [
  {
   "cell_type": "markdown",
   "id": "57f72dc5",
   "metadata": {},
   "source": [
    "### Consistent Hashing\n",
    "\n",
    "- Usually when we implement Load Balancing it is very difficult to distribute the traffic between them\n",
    "- What if one server goes down ?\n",
    "- what will another server cant handle soo many requests at a time\n",
    "\n",
    "#### Solution \n",
    "- Consistent Hasing works well here \n",
    "- It will be pre arranged in a ring along with sever id hashing \n",
    "- The requst will come to the next available server in a clock wise direction\n",
    "- Where the reqeust will take by that server and move forward\n",
    "- "
   ]
  }
 ],
 "metadata": {
  "language_info": {
   "name": "python"
  }
 },
 "nbformat": 4,
 "nbformat_minor": 5
}
