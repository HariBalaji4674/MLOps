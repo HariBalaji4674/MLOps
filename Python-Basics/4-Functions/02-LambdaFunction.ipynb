{
 "cells": [
  {
   "cell_type": "markdown",
   "id": "50737e89",
   "metadata": {},
   "source": [
    "### Lambda Function \n",
    "- Lambda Function without any name is called Lambda Function\n",
    "- It is also called as Anonymous Function\n",
    "\n",
    "lambda arguments : expressions"
   ]
  },
  {
   "cell_type": "code",
   "execution_count": null,
   "id": "0ffad230",
   "metadata": {},
   "outputs": [
    {
     "data": {
      "text/plain": [
       "50"
      ]
     },
     "execution_count": 1,
     "metadata": {},
     "output_type": "execute_result"
    }
   ],
   "source": [
    "## Addition Function\n",
    "\n",
    "c = lambda a,b : a+b \n",
    "\n",
    "c(20,30)\n"
   ]
  },
  {
   "cell_type": "code",
   "execution_count": 6,
   "id": "33ea9051",
   "metadata": {},
   "outputs": [
    {
     "data": {
      "text/plain": [
       "6"
      ]
     },
     "execution_count": 6,
     "metadata": {},
     "output_type": "execute_result"
    }
   ],
   "source": [
    "## Even or Odd Numbers \n",
    "## Lambda arguments : expressions\n",
    "\n",
    "def evod(a,b):\n",
    "    if a %b == 0:\n",
    "        return a\n",
    "    else:\n",
    "        return b\n",
    "\n",
    "Ev_Od = lambda a,b : a if a % b == 0 else b\n",
    "\n",
    "Ev_Od(2,3)\n",
    "Ev_Od(6,2)"
   ]
  },
  {
   "cell_type": "code",
   "execution_count": 13,
   "id": "7b53b9b5",
   "metadata": {},
   "outputs": [
    {
     "name": "stdout",
     "output_type": "stream",
     "text": [
      "[4, 27]\n"
     ]
    }
   ],
   "source": [
    "## Map Function \n",
    "## map(function,iterables)\n",
    "## Map(conditions,iterables)\n",
    "s1 = [2,3]\n",
    "s2 = 40\n",
    "a = list(map(lambda x : x**x,s1))\n",
    "\n",
    "\n",
    "print(a)"
   ]
  },
  {
   "cell_type": "code",
   "execution_count": 5,
   "id": "cbf11249",
   "metadata": {},
   "outputs": [
    {
     "name": "stdout",
     "output_type": "stream",
     "text": [
      "[30]\n"
     ]
    }
   ],
   "source": [
    "### Filter Functions\n",
    "### Filter (function,iterable)\n",
    "c = filter(lambda x: x%3 == 0, [20,30,40])\n",
    "print(list(c))"
   ]
  },
  {
   "cell_type": "code",
   "execution_count": null,
   "id": "79bd3892",
   "metadata": {},
   "outputs": [],
   "source": []
  }
 ],
 "metadata": {
  "kernelspec": {
   "display_name": "venv (3.13.5)",
   "language": "python",
   "name": "python3"
  },
  "language_info": {
   "codemirror_mode": {
    "name": "ipython",
    "version": 3
   },
   "file_extension": ".py",
   "mimetype": "text/x-python",
   "name": "python",
   "nbconvert_exporter": "python",
   "pygments_lexer": "ipython3",
   "version": "3.13.5"
  }
 },
 "nbformat": 4,
 "nbformat_minor": 5
}
