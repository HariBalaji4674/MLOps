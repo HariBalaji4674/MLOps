{
 "cells": [
  {
   "cell_type": "code",
   "execution_count": 3,
   "id": "20272995",
   "metadata": {},
   "outputs": [
    {
     "name": "stdout",
     "output_type": "stream",
     "text": [
      "77.0\n",
      "25.0\n"
     ]
    }
   ],
   "source": [
    "#### Temparature Converter\n",
    "\n",
    "def temp_conver(temp,unit):\n",
    "    if unit == 'C':\n",
    "        return temp * 9/5 + 32\n",
    "    elif unit == 'F':\n",
    "        return (temp - 32) * 5/9\n",
    "    else:\n",
    "        return None\n",
    "\n",
    "CtoF = temp_conver(25,'C')\n",
    "FtoC= temp_conver(77,'F')\n",
    "\n",
    "print(CtoF)\n",
    "print(FtoC)"
   ]
  },
  {
   "cell_type": "code",
   "execution_count": 8,
   "id": "581c07a2",
   "metadata": {},
   "outputs": [
    {
     "data": {
      "text/plain": [
       "'reddy@123ertatd Does not Have any Upper Characters Please Add Uppercase Characters'"
      ]
     },
     "execution_count": 8,
     "metadata": {},
     "output_type": "execute_result"
    }
   ],
   "source": [
    "#### Strong Password Checker\n",
    "\n",
    "def passCheck(password):\n",
    "    if len(password)<12:\n",
    "        return f\"{password} length is {len(password)} , Please Add {12-len(password)} Characters\"\n",
    "    if not any(char.isdigit() for char in password):\n",
    "        return f\"{password} Does not Have any Digits Please Add Digits\"\n",
    "    if not any(char.isupper() for char in password):\n",
    "        return f\"{password} Does not Have any Upper Characters Please Add Uppercase Characters\"\n",
    "    if not any(char.islower() for char in password):\n",
    "        return f\"{password} Does not Have any Lower Case Caharcters Please Add Lower Case Characters\"\n",
    "    if not any(char in '@!#$%^&*!' for char in password):\n",
    "        return f\"{password} does not contain special characters\"\n",
    "    return f\"Congratulations !!! Your {password} Is Very Strong\"\n",
    "\n",
    "\n",
    "passCheck(\"Reddy@123HariVardhan\")\n",
    "passCheck(\"reddy@123ertatd\")\n",
    "    "
   ]
  },
  {
   "cell_type": "code",
   "execution_count": null,
   "id": "eba15a25",
   "metadata": {},
   "outputs": [],
   "source": []
  }
 ],
 "metadata": {
  "kernelspec": {
   "display_name": "venv (3.13.5)",
   "language": "python",
   "name": "python3"
  },
  "language_info": {
   "codemirror_mode": {
    "name": "ipython",
    "version": 3
   },
   "file_extension": ".py",
   "mimetype": "text/x-python",
   "name": "python",
   "nbconvert_exporter": "python",
   "pygments_lexer": "ipython3",
   "version": "3.13.5"
  }
 },
 "nbformat": 4,
 "nbformat_minor": 5
}
