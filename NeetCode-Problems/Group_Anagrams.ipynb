{
 "cells": [
  {
   "cell_type": "code",
   "execution_count": 5,
   "id": "33b181ef",
   "metadata": {},
   "outputs": [
    {
     "ename": "NameError",
     "evalue": "name 'List' is not defined",
     "output_type": "error",
     "traceback": [
      "\u001b[31m---------------------------------------------------------------------------\u001b[39m",
      "\u001b[31mNameError\u001b[39m                                 Traceback (most recent call last)",
      "\u001b[36mCell\u001b[39m\u001b[36m \u001b[39m\u001b[32mIn[5]\u001b[39m\u001b[32m, line 3\u001b[39m\n\u001b[32m      1\u001b[39m \u001b[38;5;66;03m### Group Anagrams\u001b[39;00m\n\u001b[32m----> \u001b[39m\u001b[32m3\u001b[39m \u001b[38;5;28;01mdef\u001b[39;00m\u001b[38;5;250m \u001b[39m\u001b[34mgroupAnagrams\u001b[39m(strs:\u001b[43mList\u001b[49m[\u001b[38;5;28mstr\u001b[39m]) -> List[List[\u001b[38;5;28mstr\u001b[39m]]:\n\u001b[32m      4\u001b[39m     res = deafultdict(\u001b[38;5;28mlist\u001b[39m)\n\u001b[32m      5\u001b[39m     \u001b[38;5;28;01mfor\u001b[39;00m s \u001b[38;5;129;01min\u001b[39;00m strs:\n",
      "\u001b[31mNameError\u001b[39m: name 'List' is not defined"
     ]
    }
   ],
   "source": [
    "### Group Anagrams\n",
    "\n",
    "def groupAnagrams(strs:List[str]) -> List[List[str]]:\n",
    "    res = deafultdict(list)\n",
    "    for s in strs:\n",
    "        count = [0] * 26\n",
    "        for c in s:\n",
    "            count[ord(c)-ord(\"a\")] += 1\n",
    "        res[tuple(count)].append(s)\n",
    "    return res.values()\n",
    "\n",
    "sts = [\"cat\",\"bat\",\"atc\",\"atb\",\"tba\"]\n",
    "groupAnagrams(sts)"
   ]
  },
  {
   "cell_type": "code",
   "execution_count": null,
   "id": "51691f2f",
   "metadata": {},
   "outputs": [],
   "source": []
  }
 ],
 "metadata": {
  "kernelspec": {
   "display_name": "venv (3.13.5)",
   "language": "python",
   "name": "python3"
  },
  "language_info": {
   "codemirror_mode": {
    "name": "ipython",
    "version": 3
   },
   "file_extension": ".py",
   "mimetype": "text/x-python",
   "name": "python",
   "nbconvert_exporter": "python",
   "pygments_lexer": "ipython3",
   "version": "3.13.5"
  }
 },
 "nbformat": 4,
 "nbformat_minor": 5
}
