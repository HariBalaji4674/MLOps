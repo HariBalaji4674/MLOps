{
 "cells": [
  {
   "cell_type": "markdown",
   "id": "c2d6d488",
   "metadata": {},
   "source": [
    "### Two Sum Problem \n"
   ]
  },
  {
   "cell_type": "code",
   "execution_count": 1,
   "id": "93fafe4e",
   "metadata": {},
   "outputs": [
    {
     "data": {
      "text/plain": [
       "[0, 3]"
      ]
     },
     "execution_count": 1,
     "metadata": {},
     "output_type": "execute_result"
    }
   ],
   "source": [
    "def twoSum(nums,target):\n",
    "    prevMap = {}\n",
    "    for i , n in enumerate(nums):\n",
    "        diff = target - n\n",
    "        if diff in prevMap:\n",
    "            return [prevMap[diff],i]\n",
    "        prevMap[n] = i\n",
    "    return\n",
    "\n",
    "nums = [2,3,5,7]\n",
    "target = 9\n",
    "\n",
    "twoSum(nums,target)"
   ]
  },
  {
   "cell_type": "code",
   "execution_count": 3,
   "id": "b9945c76",
   "metadata": {},
   "outputs": [
    {
     "data": {
      "text/plain": [
       "(2, 7)"
      ]
     },
     "execution_count": 3,
     "metadata": {},
     "output_type": "execute_result"
    }
   ],
   "source": [
    "### Generating All Possible Scenarios\n",
    "\n",
    "def twoSum(arr,target):\n",
    "    n = len(arr)\n",
    "    for i in range(n):\n",
    "        for j in range(i+1,n):\n",
    "            if arr[i]+arr[j] == target:\n",
    "                return arr[i],arr[j]\n",
    "    return False\n",
    "\n",
    "arr = [2,3,5,7]\n",
    "target = 9\n",
    "twoSum(arr,target)"
   ]
  },
  {
   "cell_type": "code",
   "execution_count": null,
   "id": "df1afde2",
   "metadata": {},
   "outputs": [],
   "source": [
    "### Group Anagrams"
   ]
  }
 ],
 "metadata": {
  "kernelspec": {
   "display_name": "venv (3.13.5)",
   "language": "python",
   "name": "python3"
  },
  "language_info": {
   "codemirror_mode": {
    "name": "ipython",
    "version": 3
   },
   "file_extension": ".py",
   "mimetype": "text/x-python",
   "name": "python",
   "nbconvert_exporter": "python",
   "pygments_lexer": "ipython3",
   "version": "3.13.5"
  }
 },
 "nbformat": 4,
 "nbformat_minor": 5
}
