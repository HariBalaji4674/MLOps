{
 "cells": [
  {
   "cell_type": "markdown",
   "id": "5eea5afd",
   "metadata": {},
   "source": [
    "#### Valid Anagram \n"
   ]
  },
  {
   "cell_type": "code",
   "execution_count": 7,
   "id": "d8674041",
   "metadata": {},
   "outputs": [
    {
     "name": "stdout",
     "output_type": "stream",
     "text": [
      "{'h': 1, 'e': 1, 'l': 2, 'o': 1}\n",
      "{'h': 0, 'e': 0, 'l': 0, 'o': 0}\n",
      "True\n"
     ]
    }
   ],
   "source": [
    "def anagrams(s1,s2):\n",
    "    if len(s1) != len(s2):\n",
    "        return False\n",
    "\n",
    "    charCount = {}\n",
    "    for ch in s1:\n",
    "        charCount[ch] = charCount.get(ch,0)+1\n",
    "    \n",
    "    print(charCount)\n",
    "    \n",
    "    for ch in s2:\n",
    "        charCount[ch] = charCount.get(ch,0)-1\n",
    "\n",
    "    print(charCount)\n",
    "\n",
    "    for value in charCount.values():\n",
    "        if value != 0:\n",
    "            return False\n",
    "    return True\n",
    "\n",
    "out = anagrams(\"hello\",\"lehlo\")\n",
    "print(out)\n",
    "\n",
    "\n",
    "\n"
   ]
  },
  {
   "cell_type": "code",
   "execution_count": 11,
   "id": "af1beba7",
   "metadata": {},
   "outputs": [
    {
     "data": {
      "text/plain": [
       "True"
      ]
     },
     "execution_count": 11,
     "metadata": {},
     "output_type": "execute_result"
    }
   ],
   "source": [
    "### Solution 2\n",
    "\n",
    "def Anagrams(s , t):\n",
    "    if len(s) != len(t):\n",
    "        return False\n",
    "    \n",
    "    charS = {}\n",
    "    charT = {}\n",
    "\n",
    "    for i in range(len(s)):\n",
    "        charS[s[i]] = charS.get(s[i],0)+1\n",
    "        charT[t[i]] = charT.get(t[i],0)+1\n",
    "    \n",
    "    for c in charS:\n",
    "        if charS[c] != charT.get(c,0):\n",
    "            return False\n",
    "    return True\n",
    "\n",
    "Anagrams(\"anagram\",\"nagaram\")"
   ]
  },
  {
   "cell_type": "code",
   "execution_count": null,
   "id": "ea3f8a39",
   "metadata": {},
   "outputs": [],
   "source": []
  }
 ],
 "metadata": {
  "kernelspec": {
   "display_name": "venv (3.13.5)",
   "language": "python",
   "name": "python3"
  },
  "language_info": {
   "codemirror_mode": {
    "name": "ipython",
    "version": 3
   },
   "file_extension": ".py",
   "mimetype": "text/x-python",
   "name": "python",
   "nbconvert_exporter": "python",
   "pygments_lexer": "ipython3",
   "version": "3.13.5"
  }
 },
 "nbformat": 4,
 "nbformat_minor": 5
}
