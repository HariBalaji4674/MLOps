{
 "cells": [
  {
   "cell_type": "markdown",
   "id": "12f279f8",
   "metadata": {},
   "source": [
    "### CONTAINS DUPLICATE PROBLEM\n",
    "\n",
    "1. HashSet :\n",
    "   1. HashSet will save the elements Uniquely \n",
    "   2. we can do Multiple Opeartions\n",
    "      1. Add\n",
    "      2. Iterate\n",
    "      3. Enquiry\n",
    "      4. Delete\n",
    "   3. To find Duplicates we can use them \n"
   ]
  },
  {
   "cell_type": "code",
   "execution_count": 3,
   "id": "fc9ed8b5",
   "metadata": {},
   "outputs": [
    {
     "name": "stdout",
     "output_type": "stream",
     "text": [
      "{0, 1, 2, 3}\n"
     ]
    }
   ],
   "source": [
    "## Duplicates Program\n",
    "\n",
    "def duplicates(nums):\n",
    "    hashSet = set()\n",
    "    for n in nums:\n",
    "        if n in hashSet:\n",
    "            return True\n",
    "        hashSet.add(n)\n",
    "    return hashSet\n",
    "\n",
    "\n",
    "nums = [1,2,3,0]\n",
    "print(duplicates(nums))\n"
   ]
  },
  {
   "cell_type": "code",
   "execution_count": 5,
   "id": "fcdf02c3",
   "metadata": {},
   "outputs": [
    {
     "name": "stdout",
     "output_type": "stream",
     "text": [
      "({1, 2, 3, 4, 5}, {1, 2})\n"
     ]
    }
   ],
   "source": [
    "def hashSetFunc(nums):\n",
    "    hashSet = set()\n",
    "    hashSetDup = set()\n",
    "    for n in nums:\n",
    "        if n not in hashSet:\n",
    "            hashSet.add(n)\n",
    "        else:\n",
    "            hashSetDup.add(n)\n",
    "    return hashSet,hashSetDup\n",
    "\n",
    "\n",
    "numbers = [1,2,3,4,5,1,2]\n",
    "Unique_Ele = hashSetFunc(numbers)\n",
    "print(Unique_Ele)"
   ]
  },
  {
   "cell_type": "code",
   "execution_count": null,
   "id": "5965f460",
   "metadata": {},
   "outputs": [
    {
     "name": "stdout",
     "output_type": "stream",
     "text": [
      "{'g', 'd', 'b', 'e', 'f', 'c', 'a'}\n"
     ]
    }
   ],
   "source": [
    "### Set Methods\n",
    "\n",
    "s = {'a','b','c','d','e','f','g'}\n",
    "\n",
    "print(s)\n"
   ]
  },
  {
   "cell_type": "code",
   "execution_count": 48,
   "id": "643cce18",
   "metadata": {},
   "outputs": [
    {
     "name": "stdout",
     "output_type": "stream",
     "text": [
      "{'g', 'd', 'b', 'e', 'f', 'c', 'p', 'a'}\n"
     ]
    }
   ],
   "source": [
    "s.add('p')\n",
    "print(s)"
   ]
  },
  {
   "cell_type": "code",
   "execution_count": 26,
   "id": "896ef84c",
   "metadata": {},
   "outputs": [
    {
     "name": "stdout",
     "output_type": "stream",
     "text": [
      "a\n",
      "set()\n"
     ]
    }
   ],
   "source": [
    "s.discard('g')\n",
    "\n",
    "# s.remove('a')\n",
    "\n",
    "print(s.pop())\n",
    "\n",
    "print(s)\n",
    "\n",
    "s.add('a')"
   ]
  },
  {
   "cell_type": "code",
   "execution_count": 32,
   "id": "8388f00a",
   "metadata": {},
   "outputs": [
    {
     "name": "stdout",
     "output_type": "stream",
     "text": [
      "{1, 2, 3, 4, 5, 6, 7, 8, 9, 10}\n",
      "{1, 2, 3, 4, 5}\n",
      "None\n",
      "{6, 7, 8, 9, 10}\n"
     ]
    }
   ],
   "source": [
    "s1 = {1,2,3,4,5}\n",
    "s2 = {6,7,8,9,10}\n",
    "\n",
    "s3 = s1.union(s2)\n",
    "print(s3)\n",
    "\n",
    "s4 = s3.difference(s2)\n",
    "print(s4)\n",
    "\n",
    "s5 = s3.difference_update(s4)\n",
    "print(s5)\n",
    "\n",
    "print(s3)"
   ]
  },
  {
   "cell_type": "code",
   "execution_count": 51,
   "id": "f6ce4e6b",
   "metadata": {},
   "outputs": [
    {
     "name": "stdout",
     "output_type": "stream",
     "text": [
      "l\n"
     ]
    },
    {
     "ename": "AttributeError",
     "evalue": "'NoneType' object has no attribute 'add'",
     "output_type": "error",
     "traceback": [
      "\u001b[31m---------------------------------------------------------------------------\u001b[39m",
      "\u001b[31mAttributeError\u001b[39m                            Traceback (most recent call last)",
      "\u001b[36mCell\u001b[39m\u001b[36m \u001b[39m\u001b[32mIn[51]\u001b[39m\u001b[32m, line 8\u001b[39m\n\u001b[32m      4\u001b[39m rand_char = random.choice(string.ascii_letters)\n\u001b[32m      5\u001b[39m \u001b[38;5;28mprint\u001b[39m(rand_char)\n\u001b[32m----> \u001b[39m\u001b[32m8\u001b[39m s = \u001b[43ms\u001b[49m\u001b[43m.\u001b[49m\u001b[43madd\u001b[49m(rand_char)\n\u001b[32m     10\u001b[39m \u001b[38;5;28mprint\u001b[39m(s)\n",
      "\u001b[31mAttributeError\u001b[39m: 'NoneType' object has no attribute 'add'"
     ]
    }
   ],
   "source": [
    "import random\n",
    "import string\n",
    "\n",
    "rand_char = random.choice(string.ascii_letters)\n",
    "print(rand_char)\n",
    "\n",
    "\n",
    "s = s.add(rand_char)\n",
    "\n",
    "print(s)\n"
   ]
  },
  {
   "cell_type": "code",
   "execution_count": 84,
   "id": "30c51f39",
   "metadata": {},
   "outputs": [
    {
     "name": "stdout",
     "output_type": "stream",
     "text": [
      "{'j', 'l', 'x', 'm', 'E', 'C', 'g', 'N', 'F'}\n"
     ]
    }
   ],
   "source": [
    "chars = set()\n",
    "\n",
    "for i in range(10):\n",
    "    char_rand = random.choice(string.ascii_letters)\n",
    "    chars.add(char_rand)\n",
    "\n",
    "print(chars)\n"
   ]
  },
  {
   "cell_type": "code",
   "execution_count": 89,
   "id": "beb6b182",
   "metadata": {},
   "outputs": [
    {
     "name": "stdout",
     "output_type": "stream",
     "text": [
      "{}\n",
      "{'name': 'peddireddy'}\n"
     ]
    },
    {
     "data": {
      "text/plain": [
       "dict_values(['peddireddy'])"
      ]
     },
     "execution_count": 89,
     "metadata": {},
     "output_type": "execute_result"
    }
   ],
   "source": [
    "### Hash Map : Key Value Pairs \n",
    "\n",
    "hashMap = dict()\n",
    "\n",
    "print(hashMap)\n",
    "\n",
    "hashMap.update(name=\"peddireddy\")\n",
    "print(hashMap)\n",
    "\n",
    "hashMap.get(\"name\")\n",
    "hashMap.values()\n"
   ]
  },
  {
   "cell_type": "code",
   "execution_count": 93,
   "id": "af22820f",
   "metadata": {},
   "outputs": [
    {
     "name": "stdout",
     "output_type": "stream",
     "text": [
      "{'science': 340, 'maths': 400, 'telugu': 800, 'hindi': 1000}\n",
      "400\n",
      "{'science': 340, 'maths': 3000, 'telugu': 800, 'hindi': 1000}\n",
      "3000\n"
     ]
    }
   ],
   "source": [
    "marks = {\n",
    "    \"science\": 340,\n",
    "    \"maths\" : 400,\n",
    "    \"telugu\": 800,\n",
    "    \"hindi\": 1000\n",
    "}\n",
    "\n",
    "print(marks)\n",
    "print(marks.get('maths'))\n",
    "\n",
    "marks.update({'maths': 3000})\n",
    "print(marks)\n",
    "print(marks.get('maths'))\n"
   ]
  },
  {
   "cell_type": "code",
   "execution_count": null,
   "id": "c52d8ce9",
   "metadata": {},
   "outputs": [],
   "source": []
  }
 ],
 "metadata": {
  "kernelspec": {
   "display_name": "venv (3.13.5)",
   "language": "python",
   "name": "python3"
  },
  "language_info": {
   "codemirror_mode": {
    "name": "ipython",
    "version": 3
   },
   "file_extension": ".py",
   "mimetype": "text/x-python",
   "name": "python",
   "nbconvert_exporter": "python",
   "pygments_lexer": "ipython3",
   "version": "3.13.5"
  }
 },
 "nbformat": 4,
 "nbformat_minor": 5
}
