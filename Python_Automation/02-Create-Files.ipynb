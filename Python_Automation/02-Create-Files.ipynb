{
 "cells": [
  {
   "cell_type": "markdown",
   "id": "4b072ce9",
   "metadata": {},
   "source": [
    "### Create A File Using OS Module\n",
    "\n",
    "- os.dir()"
   ]
  },
  {
   "cell_type": "code",
   "execution_count": 1,
   "id": "1f87bd78",
   "metadata": {},
   "outputs": [
    {
     "name": "stdout",
     "output_type": "stream",
     "text": [
      "Hello World!!!\n"
     ]
    }
   ],
   "source": [
    "print(\"Hello World!!!\")"
   ]
  },
  {
   "cell_type": "code",
   "execution_count": 2,
   "id": "71236213",
   "metadata": {},
   "outputs": [
    {
     "name": "stdout",
     "output_type": "stream",
     "text": [
      "['01-List-Files.ipynb', '02-Create-Files.ipynb']\n"
     ]
    }
   ],
   "source": [
    "import os\n",
    "\n",
    "print(os.listdir())"
   ]
  },
  {
   "cell_type": "code",
   "execution_count": 3,
   "id": "cdfd0a35",
   "metadata": {},
   "outputs": [],
   "source": [
    "from os import listdir\n",
    "\n",
    "\n",
    "filename = \"02-Test.ipynb\"\n",
    "\n",
    "with open(\"02-Test.ipynb\" , 'w') as f:\n",
    "    f.write(\"Hello Mister Heart Miss Ayyeee ... \")\n",
    "\n"
   ]
  },
  {
   "cell_type": "code",
   "execution_count": 4,
   "id": "9bc1dd3d",
   "metadata": {},
   "outputs": [
    {
     "name": "stdout",
     "output_type": "stream",
     "text": [
      "/Python_Automation/03-Test.ipynb\n"
     ]
    }
   ],
   "source": [
    "path = \"/Python_Automation/\"\n",
    "file = \"03-Test.ipynb\"\n",
    "\n",
    "full_path = os.path.join(path,file)\n",
    "print(full_path)"
   ]
  },
  {
   "cell_type": "code",
   "execution_count": 8,
   "id": "9f7bd1b6",
   "metadata": {},
   "outputs": [
    {
     "name": "stdout",
     "output_type": "stream",
     "text": [
      "Python Found in File2.txt\n",
      "Python Found in File1.txt\n"
     ]
    }
   ],
   "source": [
    "word= \"Python\"\n",
    "for filename in os.listdir('.'):\n",
    "    if filename.endswith('.txt'):\n",
    "        with open(filename) as fl:\n",
    "            if word in fl.read():\n",
    "                print(f\"{word} Found in {filename}\")\n"
   ]
  },
  {
   "cell_type": "code",
   "execution_count": 9,
   "id": "d3f7b822",
   "metadata": {},
   "outputs": [
    {
     "data": {
      "text/plain": [
       "'/Users/harivardhanreddy/Desktop/Repos/MLOps/Python_Automation/backup.zip'"
      ]
     },
     "execution_count": 9,
     "metadata": {},
     "output_type": "execute_result"
    }
   ],
   "source": [
    "### Compress File into a Zip Folder\n",
    "\n",
    "import shutil\n",
    "\n",
    "shutil.make_archive('backup','zip','.')"
   ]
  },
  {
   "cell_type": "code",
   "execution_count": 10,
   "id": "5431b730",
   "metadata": {},
   "outputs": [
    {
     "name": "stdout",
     "output_type": "stream",
     "text": [
      "Name: File2 , Extension is .txt\n",
      "Name: File3 , Extension is .txt\n",
      "Name: File1 , Extension is .txt\n",
      "Name: backup , Extension is .zip\n",
      "Name: 01-List-Files , Extension is .ipynb\n",
      "Name: 02-Create-Files , Extension is .ipynb\n",
      "Name: 02-Test , Extension is .ipynb\n"
     ]
    }
   ],
   "source": [
    "### Extract File Name and extensions from a Directory\n",
    "\n",
    "for filename in os.listdir('.'):\n",
    "    base,ext = os.path.splitext(filename)\n",
    "    print(f\"Name: {base} , Extension is {ext}\")"
   ]
  },
  {
   "cell_type": "code",
   "execution_count": 12,
   "id": "6032c443",
   "metadata": {},
   "outputs": [
    {
     "name": "stdout",
     "output_type": "stream",
     "text": [
      " The Number is 0\n",
      " The Number is 1\n",
      " The Number is 2\n",
      " The Number is 3\n",
      " The Number is 4\n",
      " The Number is 5\n",
      " The Number is 6\n",
      " The Number is 7\n",
      " The Number is 8\n",
      " The Number is 9\n"
     ]
    }
   ],
   "source": [
    "## Schedule a Script to run at specific time\n",
    "\n",
    "import time \n",
    "import subprocess\n",
    "\n",
    "run_at = \"20:36\"\n",
    "\n",
    "while True:\n",
    "    current = time.strftime(\"%H:%M\")\n",
    "    if current == run_at:\n",
    "        subprocess.run(['python3','03-Script.py'])\n",
    "        break\n",
    "    time.sleep(30)\n"
   ]
  },
  {
   "cell_type": "code",
   "execution_count": 17,
   "id": "e81c8daa",
   "metadata": {},
   "outputs": [
    {
     "name": "stdout",
     "output_type": "stream",
     "text": [
      "zjNZiULPZyRuUPRTd\\At\n"
     ]
    }
   ],
   "source": [
    "## Generate the random string password\n",
    "import string,random\n",
    "charlength = 20\n",
    "all_chars = string.ascii_letters+string.ascii_lowercase+string.ascii_uppercase+string.punctuation\n",
    "\n",
    "password = ''.join(random.choice(all_chars) for _ in range(charlength))\n",
    "print(password)"
   ]
  },
  {
   "cell_type": "code",
   "execution_count": 6,
   "id": "3549b535",
   "metadata": {},
   "outputs": [],
   "source": [
    "## Manage Files and create append text delete text\n",
    "\n",
    "import os\n",
    "\n",
    "filename = \"day_5_Sample.yaml\"\n",
    "\n",
    "with open(filename,'w') as f:\n",
    "    f.write(\"Adding Line 1 With My Heartful Congratulations......\\n\")\n",
    "\n",
    "with open(filename,'a') as f:\n",
    "    f.write(\"Appending Another Line with another text files....\\n\")\n",
    "\n",
    "for file in os.listdir('.'):\n",
    "    if file.endswith('.txt'):\n",
    "        print(f'Test File Name {file}')\n",
    "        os.remove(file)\n"
   ]
  },
  {
   "cell_type": "code",
   "execution_count": 11,
   "id": "28319a5f",
   "metadata": {},
   "outputs": [
    {
     "name": "stdout",
     "output_type": "stream",
     "text": [
      "usage(total=494384795648, used=230974054400, free=263410741248)\n",
      "<class 'shutil.usage'>\n",
      "Disk Used : 46.72\n",
      "Congratulations !!!! 46.72 is less than 85.00\n"
     ]
    }
   ],
   "source": [
    "### Shutil Package will give all utilities like memory,cpu etc ..abs\n",
    "\n",
    "import shutil as sh\n",
    "\n",
    "res = sh.disk_usage('.')\n",
    "print(res)\n",
    "print(type(res))\n",
    "\n",
    "def check_usage_alert(threashold_usage=80):\n",
    "    total,used,free = sh.disk_usage('.')\n",
    "    usage_percent = 100 * used / total\n",
    "    print(f\"Disk Used : {usage_percent:.2f}\")\n",
    "    if usage_percent > threashold_usage:\n",
    "        print(f\"{usage_percent} is increased please delete some files...\")\n",
    "    else:\n",
    "        print(f\"Congratulations !!!! {usage_percent:.2f} is less than {threashold_usage:.2f}\")\n",
    "\n",
    "check_usage_alert(85)\n",
    "\n"
   ]
  },
  {
   "cell_type": "code",
   "execution_count": 30,
   "id": "fb8a0c21",
   "metadata": {},
   "outputs": [
    {
     "name": "stdout",
     "output_type": "stream",
     "text": [
      "2025-10-14 20-59-55 : Connected\n"
     ]
    }
   ],
   "source": [
    "### check the network connectivity and Log Status\n",
    "\n",
    "import socket\n",
    "import datetime\n",
    "import os\n",
    "\n",
    "\n",
    "logfile = os.path.join(os.getcwd(),'networkcon.log')\n",
    "\n",
    "### Print Ping status \n",
    "\n",
    "def ping():\n",
    "    try:\n",
    "        socket.setdefaulttimeout(3)\n",
    "        s = socket.socket(socket.AF_INET,socket.SOCK_STREAM)\n",
    "        s.connect((\"8.8.8.8\",53))\n",
    "    except OSError:\n",
    "        return False\n",
    "    else:\n",
    "        s.close()\n",
    "        return True\n",
    "def log_status():\n",
    "    timestamp = datetime.datetime.now().strftime(\"%Y-%m-%d %H-%M-%S\")\n",
    "    status = \"Connected\" if ping() else \"Disconnected\"\n",
    "    entry = f\"{timestamp} : {status}\\n \"\n",
    "    with open(logfile,'a') as f:\n",
    "        f.write(entry)\n",
    "    print(entry.strip())\n",
    "\n",
    "log_status()\n",
    "\n",
    "\n"
   ]
  },
  {
   "cell_type": "code",
   "execution_count": 34,
   "id": "c856abdf",
   "metadata": {},
   "outputs": [
    {
     "name": "stdout",
     "output_type": "stream",
     "text": [
      "HELLO\n",
      "H\n",
      "E\n",
      "L\n",
      "L\n",
      "O\n",
      "O\n",
      "L\n",
      "L\n",
      "E\n",
      "H\n",
      "OLLEH\n"
     ]
    }
   ],
   "source": [
    "strCat = \"HELLO\"\n",
    "print(strCat)\n",
    "\n",
    "for i in range(len(strCat)):\n",
    "    print(strCat[i])\n",
    "\n",
    "for i in range(len(strCat)-1,-1,-1):\n",
    "    print(strCat[i])\n",
    "\n",
    "dup_strCat = \"\".join(strCat[i] for i in range(len(strCat)-1,-1,-1))\n",
    "print(dup_strCat)"
   ]
  },
  {
   "cell_type": "code",
   "execution_count": null,
   "id": "c9de1356",
   "metadata": {},
   "outputs": [],
   "source": []
  }
 ],
 "metadata": {
  "kernelspec": {
   "display_name": "venv (3.13.5)",
   "language": "python",
   "name": "python3"
  },
  "language_info": {
   "codemirror_mode": {
    "name": "ipython",
    "version": 3
   },
   "file_extension": ".py",
   "mimetype": "text/x-python",
   "name": "python",
   "nbconvert_exporter": "python",
   "pygments_lexer": "ipython3",
   "version": "3.13.5"
  }
 },
 "nbformat": 4,
 "nbformat_minor": 5
}
