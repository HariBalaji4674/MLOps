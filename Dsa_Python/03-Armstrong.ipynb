{
 "cells": [
  {
   "cell_type": "markdown",
   "id": "06a1d8e5",
   "metadata": {},
   "source": [
    "### Armstrong Number Checking\n",
    "\n",
    "- The power of each number in a number is sum of the cube of each digit == each "
   ]
  },
  {
   "cell_type": "code",
   "execution_count": 5,
   "id": "3bfabc80",
   "metadata": {},
   "outputs": [
    {
     "name": "stdout",
     "output_type": "stream",
     "text": [
      "Congratulations !!!! There is a Match Between 153 && 153\n",
      "153\n",
      "Sorry There is not match between 476 &&  257\n",
      "476\n"
     ]
    }
   ],
   "source": [
    "def armstromg(num):\n",
    "    num2 = str(num)\n",
    "    power = len(num2)\n",
    "    sum = 0\n",
    "    for digit in num2:\n",
    "        sum = sum + int(digit) ** power\n",
    "    \n",
    "    if sum == num:\n",
    "        print(f\"Congratulations !!!! There is a Match Between {sum} && {num}\")\n",
    "    else: \n",
    "        print(f\"Sorry There is not match between {sum} &&  {num}\")\n",
    "\n",
    "    print(sum)\n",
    "\n",
    "armstromg(153)\n",
    "armstromg(257)"
   ]
  },
  {
   "cell_type": "code",
   "execution_count": 8,
   "id": "53015159",
   "metadata": {},
   "outputs": [
    {
     "name": "stdout",
     "output_type": "stream",
     "text": [
      "153\n"
     ]
    }
   ],
   "source": [
    "### Armstrong Number with Less number\n",
    "\n",
    "def armstrong(num):\n",
    "    s = num\n",
    "    sum = 0\n",
    "    rem = len(str(num))\n",
    "    while num != 0 :\n",
    "        r = num % 10\n",
    "        sum = sum + r ** rem\n",
    "        num = num // 10\n",
    "\n",
    "    print(sum)\n",
    "\n",
    "armstrong(153)\n",
    "\n",
    "\n"
   ]
  },
  {
   "cell_type": "code",
   "execution_count": null,
   "id": "8be68e68",
   "metadata": {},
   "outputs": [
    {
     "name": "stdout",
     "output_type": "stream",
     "text": [
      "150\n"
     ]
    }
   ],
   "source": [
    "### Sum of an array \n",
    "\n",
    "def _sum(arr):\n",
    "    sum = 0\n",
    "    for i in arr:\n",
    "        sum = sum + i\n",
    "    return sum\n",
    "\n",
    "if __name__ == \"__main__\":\n",
    "    nums = [10,20,30,40,50]\n",
    "    ans = _sum(nums)\n",
    "    print(ans)\n"
   ]
  },
  {
   "cell_type": "code",
   "execution_count": null,
   "id": "395ddd3a",
   "metadata": {},
   "outputs": [],
   "source": []
  }
 ],
 "metadata": {
  "kernelspec": {
   "display_name": "venv (3.13.5)",
   "language": "python",
   "name": "python3"
  },
  "language_info": {
   "codemirror_mode": {
    "name": "ipython",
    "version": 3
   },
   "file_extension": ".py",
   "mimetype": "text/x-python",
   "name": "python",
   "nbconvert_exporter": "python",
   "pygments_lexer": "ipython3",
   "version": "3.13.5"
  }
 },
 "nbformat": 4,
 "nbformat_minor": 5
}
