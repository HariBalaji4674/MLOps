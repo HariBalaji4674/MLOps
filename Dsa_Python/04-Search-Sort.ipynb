{
 "cells": [
  {
   "cell_type": "markdown",
   "id": "2db4da5d",
   "metadata": {},
   "source": [
    "### Searching & Sorting \n",
    "\n",
    "1. Arrays:\n",
    "    - An Arrays is a Collection of Elements Stored in a Continous Memory Location\n",
    "    - All ELements of an array are of same data type [int,float,etc..]\n",
    "    - Array allow for efficient access and manupulation of data\n",
    "  - Disadvantages\n",
    "    - Fixed Size\n",
    "    - Homogeneous Type\n",
    "2. Linear Search\n",
    "   - Loop Over all the list or an array\n",
    "3. Binary Search\n",
    "   1. Arrays will always be sorted\n",
    "   2. "
   ]
  },
  {
   "cell_type": "code",
   "execution_count": 2,
   "id": "8edb5075",
   "metadata": {},
   "outputs": [
    {
     "name": "stdout",
     "output_type": "stream",
     "text": [
      "[1, 'Peddireddy', 1.5, False]\n"
     ]
    }
   ],
   "source": [
    "l1 = []\n",
    "l1.append(1)\n",
    "l1.append(\"Peddireddy\")\n",
    "l1.append(1.5)\n",
    "l1.append(False)\n",
    "\n",
    "print(l1)"
   ]
  },
  {
   "cell_type": "code",
   "execution_count": 3,
   "id": "92c9cec6",
   "metadata": {},
   "outputs": [
    {
     "data": {
      "text/plain": [
       "(3, 40)"
      ]
     },
     "execution_count": 3,
     "metadata": {},
     "output_type": "execute_result"
    }
   ],
   "source": [
    "def linear_search(arr,target):\n",
    "    size = len(arr)\n",
    "    for i in range(0,size):\n",
    "        if arr[i] == target:\n",
    "            return i,arr[i]\n",
    "    return -1\n",
    "\n",
    "arr = [10,20,30,40,50,60]\n",
    "target = 40\n",
    "\n",
    "linear_search(arr,target)\n"
   ]
  },
  {
   "cell_type": "code",
   "execution_count": 7,
   "id": "cc6ecb84",
   "metadata": {},
   "outputs": [
    {
     "name": "stdout",
     "output_type": "stream",
     "text": [
      "7\n"
     ]
    }
   ],
   "source": [
    "### Binary Search Problem\n",
    "\n",
    "def binary_search(arr,target):\n",
    "    left = 0\n",
    "    right = len(arr)-1\n",
    "\n",
    "    while left <= right:\n",
    "        mid = (left+right)//2\n",
    "        if arr[mid] == target:\n",
    "            return mid\n",
    "        elif arr[mid] > target:\n",
    "            right = mid - 1\n",
    "        elif arr[mid] < target :\n",
    "            left = mid + 1\n",
    "    return -1\n",
    "\n",
    "\n",
    "sort_list = [10,20,30,40,50,60,70,80]\n",
    "target = 80\n",
    "result = binary_search(sort_list,target)\n",
    "print(result)\n"
   ]
  },
  {
   "cell_type": "code",
   "execution_count": null,
   "id": "be2b62bd",
   "metadata": {},
   "outputs": [],
   "source": []
  },
  {
   "cell_type": "markdown",
   "id": "894cf8cb",
   "metadata": {},
   "source": [
    "#### Sorting Algorithm \n",
    "1. Bubble Sort Algorithm\n",
    "   1. "
   ]
  }
 ],
 "metadata": {
  "kernelspec": {
   "display_name": "venv (3.13.5)",
   "language": "python",
   "name": "python3"
  },
  "language_info": {
   "codemirror_mode": {
    "name": "ipython",
    "version": 3
   },
   "file_extension": ".py",
   "mimetype": "text/x-python",
   "name": "python",
   "nbconvert_exporter": "python",
   "pygments_lexer": "ipython3",
   "version": "3.13.5"
  }
 },
 "nbformat": 4,
 "nbformat_minor": 5
}
