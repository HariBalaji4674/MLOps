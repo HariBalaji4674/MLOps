{
 "cells": [
  {
   "cell_type": "markdown",
   "id": "beeaf8b5",
   "metadata": {},
   "source": [
    "### Square Root Problem \n",
    "\n",
    "1. using two pointer approach we are using to solve square root problem\n",
    "\n"
   ]
  },
  {
   "cell_type": "code",
   "execution_count": 4,
   "id": "5b649144",
   "metadata": {},
   "outputs": [
    {
     "data": {
      "text/plain": [
       "4"
      ]
     },
     "execution_count": 4,
     "metadata": {},
     "output_type": "execute_result"
    }
   ],
   "source": [
    "def sqrt(x):\n",
    "    l,r = 0,x\n",
    "    res = 0\n",
    "    while l<r:\n",
    "        m = l + ((r-l)//2)\n",
    "        if m**2 > x:\n",
    "            r = m - 1\n",
    "        elif m**2 < x:\n",
    "            l = m + 1\n",
    "            res = m\n",
    "        else:\n",
    "            return m\n",
    "    return res\n",
    "\n",
    "sqrt(20)"
   ]
  },
  {
   "cell_type": "code",
   "execution_count": 6,
   "id": "8a522336",
   "metadata": {},
   "outputs": [
    {
     "data": {
      "text/plain": [
       "[1, 2, 3, 4, 5, 1, 2, 3, 4, 5]"
      ]
     },
     "execution_count": 6,
     "metadata": {},
     "output_type": "execute_result"
    }
   ],
   "source": [
    "## Concatenation\n",
    "\n",
    "def getConcat(num,list):\n",
    "    ans = []\n",
    "\n",
    "    for i in range(num):\n",
    "        for j in list:\n",
    "            ans.append(j)\n",
    "    return ans\n",
    "\n",
    "getConcat(2,[1,2,3,4,5])\n"
   ]
  },
  {
   "cell_type": "code",
   "execution_count": null,
   "id": "05624e86",
   "metadata": {},
   "outputs": [],
   "source": []
  }
 ],
 "metadata": {
  "kernelspec": {
   "display_name": "venv (3.13.5)",
   "language": "python",
   "name": "python3"
  },
  "language_info": {
   "codemirror_mode": {
    "name": "ipython",
    "version": 3
   },
   "file_extension": ".py",
   "mimetype": "text/x-python",
   "name": "python",
   "nbconvert_exporter": "python",
   "pygments_lexer": "ipython3",
   "version": "3.13.5"
  }
 },
 "nbformat": 4,
 "nbformat_minor": 5
}
