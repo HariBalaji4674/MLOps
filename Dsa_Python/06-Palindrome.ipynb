{
 "cells": [
  {
   "cell_type": "markdown",
   "id": "1977eb6e",
   "metadata": {},
   "source": [
    "### Check the string is Palindrome or Not\n",
    "- If the string is same in both ways we can consider them as a palindrome"
   ]
  },
  {
   "cell_type": "code",
   "execution_count": null,
   "id": "c1c6c302",
   "metadata": {},
   "outputs": [
    {
     "name": "stdout",
     "output_type": "stream",
     "text": [
      "True\n"
     ]
    }
   ],
   "source": [
    "### Palindrome\n",
    "def reverseString(name):\n",
    "    left = 0\n",
    "    right = len(name)-1\n",
    "    name = list(name)\n",
    "    while left<right:\n",
    "        name[left],name[right] = name[right],name[left]\n",
    "        left = left + 1\n",
    "        right = right - 1\n",
    "    return ''.join(name)\n",
    "\n",
    "res = reverseString(\"peddireddy\")\n",
    "\n",
    "name = \"abba\"\n",
    "if name == reverseString(name):\n",
    "    print(True)\n",
    "else:\n",
    "    print(False)\n"
   ]
  },
  {
   "cell_type": "code",
   "execution_count": null,
   "id": "b84e7118",
   "metadata": {},
   "outputs": [],
   "source": []
  }
 ],
 "metadata": {
  "kernelspec": {
   "display_name": "venv (3.13.5)",
   "language": "python",
   "name": "python3"
  },
  "language_info": {
   "codemirror_mode": {
    "name": "ipython",
    "version": 3
   },
   "file_extension": ".py",
   "mimetype": "text/x-python",
   "name": "python",
   "nbconvert_exporter": "python",
   "pygments_lexer": "ipython3",
   "version": "3.13.5"
  }
 },
 "nbformat": 4,
 "nbformat_minor": 5
}
