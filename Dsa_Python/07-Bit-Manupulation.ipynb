{
 "cells": [
  {
   "cell_type": "markdown",
   "id": "b264c2d2",
   "metadata": {},
   "source": [
    "### Bit Manupulation Concepts\n"
   ]
  },
  {
   "cell_type": "code",
   "execution_count": 5,
   "id": "abdaa1f8",
   "metadata": {},
   "outputs": [
    {
     "ename": "KeyboardInterrupt",
     "evalue": "",
     "output_type": "error",
     "traceback": [
      "\u001b[31m---------------------------------------------------------------------------\u001b[39m",
      "\u001b[31mKeyboardInterrupt\u001b[39m                         Traceback (most recent call last)",
      "\u001b[36mCell\u001b[39m\u001b[36m \u001b[39m\u001b[32mIn[5]\u001b[39m\u001b[32m, line 12\u001b[39m\n\u001b[32m      9\u001b[39m     n = n//\u001b[32m2\u001b[39m\n\u001b[32m     10\u001b[39m     \u001b[38;5;28;01mreturn\u001b[39;00m res\n\u001b[32m---> \u001b[39m\u001b[32m12\u001b[39m \u001b[43mBinaryConversion\u001b[49m\u001b[43m(\u001b[49m\u001b[32;43m24\u001b[39;49m\u001b[43m)\u001b[49m\n",
      "\u001b[36mCell\u001b[39m\u001b[36m \u001b[39m\u001b[32mIn[5]\u001b[39m\u001b[32m, line 8\u001b[39m, in \u001b[36mBinaryConversion\u001b[39m\u001b[34m(n)\u001b[39m\n\u001b[32m      6\u001b[39m     \u001b[38;5;28;01melse\u001b[39;00m:\n\u001b[32m      7\u001b[39m         res = res + \u001b[33m'\u001b[39m\u001b[33m0\u001b[39m\u001b[33m'\u001b[39m\n\u001b[32m----> \u001b[39m\u001b[32m8\u001b[39m     \u001b[38;5;28;43mreversed\u001b[39;49m\u001b[43m(\u001b[49m\u001b[43mres\u001b[49m\u001b[43m)\u001b[49m\n\u001b[32m      9\u001b[39m n = n//\u001b[32m2\u001b[39m\n\u001b[32m     10\u001b[39m \u001b[38;5;28;01mreturn\u001b[39;00m res\n",
      "\u001b[31mKeyboardInterrupt\u001b[39m: "
     ]
    }
   ],
   "source": [
    "def BinaryConversion(n):\n",
    "    res = \" \"\n",
    "    while n != 1:\n",
    "        if n%2 == 1:\n",
    "            res = res + '1'\n",
    "        else:\n",
    "            res = res + '0'\n",
    "    reversed(res)\n",
    "    n = n//2\n",
    "    return res\n",
    "\n",
    "BinaryConversion(24)\n"
   ]
  },
  {
   "cell_type": "code",
   "execution_count": null,
   "id": "e8841bb5",
   "metadata": {},
   "outputs": [],
   "source": []
  }
 ],
 "metadata": {
  "kernelspec": {
   "display_name": "venv (3.13.5)",
   "language": "python",
   "name": "python3"
  },
  "language_info": {
   "codemirror_mode": {
    "name": "ipython",
    "version": 3
   },
   "file_extension": ".py",
   "mimetype": "text/x-python",
   "name": "python",
   "nbconvert_exporter": "python",
   "pygments_lexer": "ipython3",
   "version": "3.13.5"
  }
 },
 "nbformat": 4,
 "nbformat_minor": 5
}
