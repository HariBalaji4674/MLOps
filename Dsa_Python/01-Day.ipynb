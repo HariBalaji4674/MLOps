{
 "cells": [
  {
   "cell_type": "code",
   "execution_count": 9,
   "id": "68d89a6c",
   "metadata": {},
   "outputs": [
    {
     "data": {
      "text/plain": [
       "120"
      ]
     },
     "execution_count": 9,
     "metadata": {},
     "output_type": "execute_result"
    }
   ],
   "source": [
    "### Factorial Number Program\n",
    "\n",
    "## Factorial multiplication of all numbers for a number\n",
    "\n",
    "def fact(number):\n",
    "    if number == 0 or number == 1:\n",
    "        return 1\n",
    "    else:\n",
    "        return number*fact(number-1)\n",
    "\n",
    "fact(5)"
   ]
  },
  {
   "cell_type": "code",
   "execution_count": 10,
   "id": "160cdec1",
   "metadata": {},
   "outputs": [
    {
     "data": {
      "text/plain": [
       "4"
      ]
     },
     "execution_count": 10,
     "metadata": {},
     "output_type": "execute_result"
    }
   ],
   "source": [
    "### Find the x power y\n",
    "\n",
    "def power(x,y):\n",
    "    if y == 0:\n",
    "        return 1\n",
    "    if y % 2 == 0:\n",
    "        return power(x,y//2) * power(x,y//2)\n",
    "    return x * power(x,y//2) * power(x,y//2)\n",
    "\n",
    "\n",
    "power(2,2)\n",
    "\n"
   ]
  },
  {
   "cell_type": "code",
   "execution_count": 16,
   "id": "465cdc8e",
   "metadata": {},
   "outputs": [
    {
     "name": "stdout",
     "output_type": "stream",
     "text": [
      "2\n",
      "3\n",
      "4\n",
      "2\n"
     ]
    }
   ],
   "source": [
    "### Get The order of Number\n",
    "\n",
    "def order(number):\n",
    "    n = 0\n",
    "    while number != 0:\n",
    "        n = n + 1\n",
    "        number = number // 10\n",
    "    print(n)\n",
    "\n",
    "order(19)\n",
    "order(100)\n",
    "order(2345)\n",
    "\n",
    "print(5//2)\n",
    "\n"
   ]
  },
  {
   "cell_type": "code",
   "execution_count": null,
   "id": "687adbb1",
   "metadata": {},
   "outputs": [],
   "source": []
  }
 ],
 "metadata": {
  "kernelspec": {
   "display_name": "venv (3.13.5)",
   "language": "python",
   "name": "python3"
  },
  "language_info": {
   "codemirror_mode": {
    "name": "ipython",
    "version": 3
   },
   "file_extension": ".py",
   "mimetype": "text/x-python",
   "name": "python",
   "nbconvert_exporter": "python",
   "pygments_lexer": "ipython3",
   "version": "3.13.5"
  }
 },
 "nbformat": 4,
 "nbformat_minor": 5
}
