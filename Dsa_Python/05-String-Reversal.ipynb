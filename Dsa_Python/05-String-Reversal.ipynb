{
 "cells": [
  {
   "cell_type": "markdown",
   "id": "0b5c1b79",
   "metadata": {},
   "source": [
    "### String Reversal Solutions"
   ]
  },
  {
   "cell_type": "code",
   "execution_count": 1,
   "id": "670c8b61",
   "metadata": {},
   "outputs": [
    {
     "name": "stdout",
     "output_type": "stream",
     "text": [
      "HELLO\n",
      "H\n",
      "E\n",
      "L\n",
      "L\n",
      "O\n",
      "O\n",
      "L\n",
      "L\n",
      "E\n",
      "H\n",
      "OLLEH\n"
     ]
    }
   ],
   "source": [
    "### String Reversal\n",
    "\n",
    "strCat = \"HELLO\"\n",
    "print(strCat)\n",
    "\n",
    "for i in range(len(strCat)):\n",
    "    print(strCat[i])\n",
    "\n",
    "for i in range(len(strCat)-1,-1,-1):\n",
    "    print(strCat[i])\n",
    "\n",
    "dup_strCat = \"\".join(strCat[i] for i in range(len(strCat)-1,-1,-1))\n",
    "print(dup_strCat)"
   ]
  },
  {
   "cell_type": "code",
   "execution_count": 22,
   "id": "cd278300",
   "metadata": {},
   "outputs": [
    {
     "name": "stdout",
     "output_type": "stream",
     "text": [
      "ydderiddep\n"
     ]
    }
   ],
   "source": [
    "### String Reversal Using Two Pointer Approach\n",
    "def reversalString(s):\n",
    "    l = 0\n",
    "    r = len(s)-1\n",
    "    s = list(s)\n",
    "    while l<r:\n",
    "        s[l], s[r] = s[r], s[l]\n",
    "        l  = l + 1\n",
    "        r = r - 1\n",
    "    return ''.join(s)\n",
    "\n",
    "\n",
    "if __name__ == \"__main__\":\n",
    "    s = \"peddireddy\"\n",
    "    print(reversalString(s))"
   ]
  },
  {
   "cell_type": "code",
   "execution_count": null,
   "id": "8b4ba62b",
   "metadata": {},
   "outputs": [],
   "source": []
  },
  {
   "cell_type": "code",
   "execution_count": null,
   "id": "a42b26a3",
   "metadata": {},
   "outputs": [],
   "source": []
  }
 ],
 "metadata": {
  "kernelspec": {
   "display_name": "venv (3.13.5)",
   "language": "python",
   "name": "python3"
  },
  "language_info": {
   "codemirror_mode": {
    "name": "ipython",
    "version": 3
   },
   "file_extension": ".py",
   "mimetype": "text/x-python",
   "name": "python",
   "nbconvert_exporter": "python",
   "pygments_lexer": "ipython3",
   "version": "3.13.5"
  }
 },
 "nbformat": 4,
 "nbformat_minor": 5
}
