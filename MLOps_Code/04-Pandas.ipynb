{
 "cells": [
  {
   "cell_type": "markdown",
   "id": "80744ce4",
   "metadata": {},
   "source": [
    "#### Pandas\n"
   ]
  },
  {
   "cell_type": "code",
   "execution_count": null,
   "id": "531f3b60",
   "metadata": {},
   "outputs": [
    {
     "data": {
      "text/plain": [
       "1     Image1\n",
       "2     Image2\n",
       "3     Image3\n",
       "4     Image4\n",
       "dtype: object"
      ]
     },
     "execution_count": 2,
     "metadata": {},
     "output_type": "execute_result"
    }
   ],
   "source": [
    "import numpy as np\n",
    "import pandas as pd\n",
    "\n",
    "lst = [1,2,3,4,5]\n",
    "dicts = {1:\" Image1\",2:\"Image2\",3:\"Image3\",4:\"Image4\"}\n",
    "pd.Series(lst)\n",
    "ipd.Series(dicts)"
   ]
  },
  {
   "cell_type": "code",
   "execution_count": 6,
   "id": "0f2b489c",
   "metadata": {},
   "outputs": [
    {
     "data": {
      "text/html": [
       "<div>\n",
       "<style scoped>\n",
       "    .dataframe tbody tr th:only-of-type {\n",
       "        vertical-align: middle;\n",
       "    }\n",
       "\n",
       "    .dataframe tbody tr th {\n",
       "        vertical-align: top;\n",
       "    }\n",
       "\n",
       "    .dataframe thead th {\n",
       "        text-align: right;\n",
       "    }\n",
       "</style>\n",
       "<table border=\"1\" class=\"dataframe\">\n",
       "  <thead>\n",
       "    <tr style=\"text-align: right;\">\n",
       "      <th></th>\n",
       "      <th>W</th>\n",
       "      <th>X</th>\n",
       "      <th>Y</th>\n",
       "      <th>Z</th>\n",
       "    </tr>\n",
       "  </thead>\n",
       "  <tbody>\n",
       "    <tr>\n",
       "      <th>A</th>\n",
       "      <td>0.829549</td>\n",
       "      <td>0.460625</td>\n",
       "      <td>0.467836</td>\n",
       "      <td>-2.210203</td>\n",
       "    </tr>\n",
       "    <tr>\n",
       "      <th>B</th>\n",
       "      <td>1.637107</td>\n",
       "      <td>-0.355882</td>\n",
       "      <td>-0.523285</td>\n",
       "      <td>1.232627</td>\n",
       "    </tr>\n",
       "    <tr>\n",
       "      <th>C</th>\n",
       "      <td>1.439271</td>\n",
       "      <td>1.333720</td>\n",
       "      <td>-0.822976</td>\n",
       "      <td>1.325051</td>\n",
       "    </tr>\n",
       "    <tr>\n",
       "      <th>D</th>\n",
       "      <td>1.388788</td>\n",
       "      <td>0.260709</td>\n",
       "      <td>0.714599</td>\n",
       "      <td>0.890636</td>\n",
       "    </tr>\n",
       "    <tr>\n",
       "      <th>E</th>\n",
       "      <td>1.434518</td>\n",
       "      <td>-0.934801</td>\n",
       "      <td>-0.099569</td>\n",
       "      <td>0.733129</td>\n",
       "    </tr>\n",
       "  </tbody>\n",
       "</table>\n",
       "</div>"
      ],
      "text/plain": [
       "          W         X         Y         Z\n",
       "A  0.829549  0.460625  0.467836 -2.210203\n",
       "B  1.637107 -0.355882 -0.523285  1.232627\n",
       "C  1.439271  1.333720 -0.822976  1.325051\n",
       "D  1.388788  0.260709  0.714599  0.890636\n",
       "E  1.434518 -0.934801 -0.099569  0.733129"
      ]
     },
     "execution_count": 6,
     "metadata": {},
     "output_type": "execute_result"
    }
   ],
   "source": [
    "from numpy.random import randn\n",
    "\n",
    "PDSET = pd.DataFrame(randn(5,4),['A','B','C','D','E'],['W','X','Y','Z'])\n",
    "\n",
    "\n",
    "PDSET"
   ]
  },
  {
   "cell_type": "code",
   "execution_count": null,
   "id": "aa66ceab",
   "metadata": {},
   "outputs": [],
   "source": [
    "pd.DataFrame()\n",
    "\n",
    "## data,index,column"
   ]
  },
  {
   "cell_type": "code",
   "execution_count": null,
   "id": "51a5b686",
   "metadata": {},
   "outputs": [],
   "source": []
  }
 ],
 "metadata": {
  "kernelspec": {
   "display_name": "venv (3.13.5)",
   "language": "python",
   "name": "python3"
  },
  "language_info": {
   "codemirror_mode": {
    "name": "ipython",
    "version": 3
   },
   "file_extension": ".py",
   "mimetype": "text/x-python",
   "name": "python",
   "nbconvert_exporter": "python",
   "pygments_lexer": "ipython3",
   "version": "3.13.5"
  }
 },
 "nbformat": 4,
 "nbformat_minor": 5
}
