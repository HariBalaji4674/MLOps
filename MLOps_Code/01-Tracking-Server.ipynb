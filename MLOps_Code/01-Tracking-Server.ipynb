{
 "cells": [
  {
   "cell_type": "markdown",
   "id": "b7152a04",
   "metadata": {},
   "source": [
    "### Tracking Server MLOps\n"
   ]
  },
  {
   "cell_type": "markdown",
   "id": "f678d52f",
   "metadata": {},
   "source": [
    "import mlflow"
   ]
  },
  {
   "cell_type": "markdown",
   "id": "795440a1",
   "metadata": {},
   "source": []
  },
  {
   "cell_type": "code",
   "execution_count": 1,
   "id": "0f69c156",
   "metadata": {},
   "outputs": [],
   "source": [
    "import mlflow"
   ]
  },
  {
   "cell_type": "code",
   "execution_count": 2,
   "id": "2cab1ff2",
   "metadata": {},
   "outputs": [],
   "source": [
    "mlflow.set_tracking_uri(\"http://127.0.0.1:5000\")"
   ]
  },
  {
   "cell_type": "code",
   "execution_count": 3,
   "id": "ce79046e",
   "metadata": {},
   "outputs": [
    {
     "name": "stderr",
     "output_type": "stream",
     "text": [
      "2025/10/04 15:20:05 INFO mlflow.tracking.fluent: Experiment with name 'This is My First Experiment' does not exist. Creating a new experiment.\n"
     ]
    },
    {
     "data": {
      "text/plain": [
       "<Experiment: artifact_location='mlflow-artifacts:/234248863870998404', creation_time=1759571405538, experiment_id='234248863870998404', last_update_time=1759571405538, lifecycle_stage='active', name='This is My First Experiment', tags={}>"
      ]
     },
     "execution_count": 3,
     "metadata": {},
     "output_type": "execute_result"
    }
   ],
   "source": [
    "mlflow.set_experiment(\"This is My First Experiment\")"
   ]
  },
  {
   "cell_type": "code",
   "execution_count": 4,
   "id": "fb8c90c3",
   "metadata": {},
   "outputs": [
    {
     "name": "stdout",
     "output_type": "stream",
     "text": [
      "🏃 View run resilient-squid-360 at: http://127.0.0.1:5000/#/experiments/234248863870998404/runs/573ef028415d4fd1b3e1e99f35e0ff6b\n",
      "🧪 View experiment at: http://127.0.0.1:5000/#/experiments/234248863870998404\n"
     ]
    }
   ],
   "source": [
    "with mlflow.start_run():\n",
    "    mlflow.log_metric(\"Test\",1)\n",
    "    mlflow.log_metric(\"Hari\",2)"
   ]
  },
  {
   "cell_type": "code",
   "execution_count": null,
   "id": "e3376da5",
   "metadata": {},
   "outputs": [],
   "source": []
  }
 ],
 "metadata": {
  "kernelspec": {
   "display_name": "venv (3.13.5)",
   "language": "python",
   "name": "python3"
  },
  "language_info": {
   "codemirror_mode": {
    "name": "ipython",
    "version": 3
   },
   "file_extension": ".py",
   "mimetype": "text/x-python",
   "name": "python",
   "nbconvert_exporter": "python",
   "pygments_lexer": "ipython3",
   "version": "3.13.5"
  }
 },
 "nbformat": 4,
 "nbformat_minor": 5
}
